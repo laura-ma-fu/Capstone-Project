{
 "cells": [
  {
   "cell_type": "markdown",
   "id": "844f0f7e-b302-4da1-b695-184f01b3c3d0",
   "metadata": {},
   "source": [
    "# Lauras Capstone Project"
   ]
  },
  {
   "cell_type": "markdown",
   "id": "5657db91-d950-4d4a-b79e-9b4421da1d80",
   "metadata": {},
   "source": [
    "Welcome to my Exploratory Data Analysis. Since I come from literary studies, I decided to choose a dataset with the topic of literature. I chose the CMU Book Summary Dataset (source: https://paperswithcode.com/dataset/cmu-book-summary-dataset). This dataset contains plot summaries for 16,559 books extracted from Wikipedia, along with aligned metadata from Freebase, including book author, title, and genre. Here is a link to the dataset's [README](README)."
   ]
  },
  {
   "cell_type": "code",
   "execution_count": 44,
   "id": "d1f13be4-903e-4e8a-9976-1fb91d679c00",
   "metadata": {
    "tags": []
   },
   "outputs": [],
   "source": [
    "import json\n",
    "from json.decoder import JSONDecodeError\n",
    "import pandas as pd"
   ]
  },
  {
   "cell_type": "code",
   "execution_count": 1,
   "id": "7394a830-477b-41ca-a27d-ff9a8f7c41aa",
   "metadata": {
    "tags": []
   },
   "outputs": [
    {
     "name": "stderr",
     "output_type": "stream",
     "text": [
      "IOPub data rate exceeded.\n",
      "The Jupyter server will temporarily stop sending output\n",
      "to the client in order to avoid crashing it.\n",
      "To change this limit, set the config variable\n",
      "`--ServerApp.iopub_data_rate_limit`.\n",
      "\n",
      "Current values:\n",
      "ServerApp.iopub_data_rate_limit=1000000.0 (bytes/sec)\n",
      "ServerApp.rate_limit_window=3.0 (secs)\n",
      "\n"
     ]
    }
   ],
   "source": [
    "file = open(\"booksummaries.txt\", \"r\")\n",
    "for line in file:\n",
    "  print(line)\n",
    "file.close()"
   ]
  },
  {
   "cell_type": "markdown",
   "id": "8e750d73-ef4a-4828-a615-7c569628438d",
   "metadata": {},
   "source": [
    "The file is too big. Let's only read one line to check if I have read the data correctly."
   ]
  },
  {
   "cell_type": "code",
   "execution_count": 2,
   "id": "881b7a8c-42d0-43ee-a6e8-96f4cdd34edb",
   "metadata": {
    "tags": []
   },
   "outputs": [
    {
     "name": "stdout",
     "output_type": "stream",
     "text": [
      "620\t/m/0hhy\tAnimal Farm\tGeorge Orwell\t1945-08-17\t{\"/m/016lj8\": \"Roman \\u00e0 clef\", \"/m/06nbt\": \"Satire\", \"/m/0dwly\": \"Children's literature\", \"/m/014dfn\": \"Speculative fiction\", \"/m/02xlf\": \"Fiction\"}\t Old Major, the old boar on the Manor Farm, calls the animals on the farm for a meeting, where he compares the humans to parasites and teaches the animals a revolutionary song, 'Beasts of England'. When Major dies, two young pigs, Snowball and Napoleon, assume command and turn his dream into a philosophy. The animals revolt and drive the drunken and irresponsible Mr Jones from the farm, renaming it \"Animal Farm\". They adopt Seven Commandments of Animal-ism, the most important of which is, \"All animals are equal\". Snowball attempts to teach the animals reading and writing; food is plentiful, and the farm runs smoothly. The pigs elevate themselves to positions of leadership and set aside special food items, ostensibly for their personal health. Napoleon takes the pups from the farm dogs and trains them privately. Napoleon and Snowball struggle for leadership. When Snowball announces his plans to build a windmill, Napoleon has his dogs chase Snowball away and declares himself leader. Napoleon enacts changes to the governance structure of the farm, replacing meetings with a committee of pigs, who will run the farm. Using a young pig named Squealer as a \"mouthpiece\", Napoleon claims credit for the windmill idea. The animals work harder with the promise of easier lives with the windmill. After a violent storm, the animals find the windmill annihilated. Napoleon and Squealer convince the animals that Snowball destroyed it, although the scorn of the neighbouring farmers suggests that its walls were too thin. Once Snowball becomes a scapegoat, Napoleon begins purging the farm with his dogs, killing animals he accuses of consorting with his old rival. He and the pigs abuse their power, imposing more control while reserving privileges for themselves and rewriting history, villainising Snowball and glorifying Napoleon. Squealer justifies every statement Napoleon makes, even the pigs' alteration of the Seven Commandments of Animalism to benefit themselves. 'Beasts of England' is replaced by an anthem glorifying Napoleon, who appears to be adopting the lifestyle of a man. The animals remain convinced that they are better off than they were when under Mr Jones. Squealer abuses the animals' poor memories and invents numbers to show their improvement. Mr Frederick, one of the neighbouring farmers, attacks the farm, using blasting powder to blow up the restored windmill. Though the animals win the battle, they do so at great cost, as many, including Boxer the workhorse, are wounded. Despite his injuries, Boxer continues working harder and harder, until he collapses while working on the windmill. Napoleon sends for a van to take Boxer to the veterinary surgeon's, explaining that better care can be given there. Benjamin, the cynical donkey, who \"could read as well as any pig\", notices that the van belongs to a knacker, and attempts to mount a rescue; but the animals' attempts are futile. Squealer reports that the van was purchased by the hospital and the writing from the previous owner had not been repainted. He recounts a tale of Boxer's death in the hands of the best medical care. Years pass, and the pigs learn to walk upright, carry whips and wear clothes. The Seven Commandments are reduced to a single phrase: \"All animals are equal, but some animals are more equal than others\". Napoleon holds a dinner party for the pigs and the humans of the area, who congratulate Napoleon on having the hardest-working but least fed animals in the country. Napoleon announces an alliance with the humans, against the labouring classes of both \"worlds\". He abolishes practices and traditions related to the Revolution, and changes the name of the farm to \"The Manor Farm\". The animals, overhearing the conversation, notice that the faces of the pigs have begun changing. During a poker match, an argument breaks out between Napoleon and Mr Pilkington, and the animals realise that the faces of the pigs look like the faces of humans, and no one can tell the difference between them. The pigs Snowball, Napoleon, and Squealer adapt Old Major's ideas into an actual philosophy, which they formally name Animalism. Soon after, Napoleon and Squealer indulge in the vices of humans (drinking alcohol, sleeping in beds, trading). Squealer is employed to alter the Seven Commandments to account for this humanisation, an allusion to the Soviet government's revising of history in order to exercise control of the people's beliefs about themselves and their society. The original commandments are: # Whatever goes upon two legs is an enemy. # Whatever goes upon four legs, or has wings, is a friend. # No animal shall wear clothes. # No animal shall sleep in a bed. # No animal shall drink alcohol. # No animal shall kill any other animal. # All animals are equal. Later, Napoleon and his pigs secretly revise some commandments to clear them of accusations of law-breaking (such as \"No animal shall drink alcohol\" having \"to excess\" appended to it and \"No animal shall sleep in a bed\" with \"with sheets\" added to it). The changed commandments are as follows, with the changes bolded: * 4 No animal shall sleep in a bed with sheets. * 5 No animal shall drink alcohol to excess. * 6 No animal shall kill any other animal without cause. Eventually these are replaced with the maxims, \"All animals are equal, but some animals are more equal than others\", and \"Four legs good, two legs better!\" as the pigs become more human. This is an ironic twist to the original purpose of the Seven Commandments, which were supposed to keep order within Animal Farm by uniting the animals together against the humans, and prevent animals from following the humans' evil habits. Through the revision of the commandments, Orwell demonstrates how simply political dogma can be turned into malleable propaganda.\n",
      "\n"
     ]
    }
   ],
   "source": [
    "file = open(\"booksummaries.txt\", \"r\")\n",
    "for line in file:\n",
    "    print(line)\n",
    "    break\n",
    "file.close()"
   ]
  },
  {
   "cell_type": "markdown",
   "id": "930f59c4-f33f-4808-96af-04c2b527ef65",
   "metadata": {},
   "source": [
    "I create a dictionary, because dictonaries meet the requirement for the pandas.DataFrame constructor."
   ]
  },
  {
   "cell_type": "code",
   "execution_count": 19,
   "id": "fd5b5b3b-1b37-48c8-a0ac-696f70cc9c0a",
   "metadata": {
    "tags": []
   },
   "outputs": [],
   "source": [
    "data = {\n",
    "    \"wikipedia_article_id\": [],\n",
    "    \"freebase_id\": [],\n",
    "    \"book_title\": [],\n",
    "    \"author\": [],\n",
    "    \"publication_date\": [],\n",
    "    \"book_genres\": [],\n",
    "    \"plot_summary\": [],\n",
    "}"
   ]
  },
  {
   "cell_type": "markdown",
   "id": "c1993cb6-b752-4bc1-98a7-d8d91d665917",
   "metadata": {},
   "source": [
    "I use break to validate my transformation on the first row only."
   ]
  },
  {
   "cell_type": "code",
   "execution_count": 5,
   "id": "ec465c84-1e5b-4b3f-af39-610fff79a7bf",
   "metadata": {
    "tags": []
   },
   "outputs": [
    {
     "name": "stdout",
     "output_type": "stream",
     "text": [
      "['620', '/m/0hhy', 'Animal Farm', 'George Orwell', '1945-08-17', '{\"/m/016lj8\": \"Roman \\\\u00e0 clef\", \"/m/06nbt\": \"Satire\", \"/m/0dwly\": \"Children\\'s literature\", \"/m/014dfn\": \"Speculative fiction\", \"/m/02xlf\": \"Fiction\"}', ' Old Major, the old boar on the Manor Farm, calls the animals on the farm for a meeting, where he compares the humans to parasites and teaches the animals a revolutionary song, \\'Beasts of England\\'. When Major dies, two young pigs, Snowball and Napoleon, assume command and turn his dream into a philosophy. The animals revolt and drive the drunken and irresponsible Mr Jones from the farm, renaming it \"Animal Farm\". They adopt Seven Commandments of Animal-ism, the most important of which is, \"All animals are equal\". Snowball attempts to teach the animals reading and writing; food is plentiful, and the farm runs smoothly. The pigs elevate themselves to positions of leadership and set aside special food items, ostensibly for their personal health. Napoleon takes the pups from the farm dogs and trains them privately. Napoleon and Snowball struggle for leadership. When Snowball announces his plans to build a windmill, Napoleon has his dogs chase Snowball away and declares himself leader. Napoleon enacts changes to the governance structure of the farm, replacing meetings with a committee of pigs, who will run the farm. Using a young pig named Squealer as a \"mouthpiece\", Napoleon claims credit for the windmill idea. The animals work harder with the promise of easier lives with the windmill. After a violent storm, the animals find the windmill annihilated. Napoleon and Squealer convince the animals that Snowball destroyed it, although the scorn of the neighbouring farmers suggests that its walls were too thin. Once Snowball becomes a scapegoat, Napoleon begins purging the farm with his dogs, killing animals he accuses of consorting with his old rival. He and the pigs abuse their power, imposing more control while reserving privileges for themselves and rewriting history, villainising Snowball and glorifying Napoleon. Squealer justifies every statement Napoleon makes, even the pigs\\' alteration of the Seven Commandments of Animalism to benefit themselves. \\'Beasts of England\\' is replaced by an anthem glorifying Napoleon, who appears to be adopting the lifestyle of a man. The animals remain convinced that they are better off than they were when under Mr Jones. Squealer abuses the animals\\' poor memories and invents numbers to show their improvement. Mr Frederick, one of the neighbouring farmers, attacks the farm, using blasting powder to blow up the restored windmill. Though the animals win the battle, they do so at great cost, as many, including Boxer the workhorse, are wounded. Despite his injuries, Boxer continues working harder and harder, until he collapses while working on the windmill. Napoleon sends for a van to take Boxer to the veterinary surgeon\\'s, explaining that better care can be given there. Benjamin, the cynical donkey, who \"could read as well as any pig\", notices that the van belongs to a knacker, and attempts to mount a rescue; but the animals\\' attempts are futile. Squealer reports that the van was purchased by the hospital and the writing from the previous owner had not been repainted. He recounts a tale of Boxer\\'s death in the hands of the best medical care. Years pass, and the pigs learn to walk upright, carry whips and wear clothes. The Seven Commandments are reduced to a single phrase: \"All animals are equal, but some animals are more equal than others\". Napoleon holds a dinner party for the pigs and the humans of the area, who congratulate Napoleon on having the hardest-working but least fed animals in the country. Napoleon announces an alliance with the humans, against the labouring classes of both \"worlds\". He abolishes practices and traditions related to the Revolution, and changes the name of the farm to \"The Manor Farm\". The animals, overhearing the conversation, notice that the faces of the pigs have begun changing. During a poker match, an argument breaks out between Napoleon and Mr Pilkington, and the animals realise that the faces of the pigs look like the faces of humans, and no one can tell the difference between them. The pigs Snowball, Napoleon, and Squealer adapt Old Major\\'s ideas into an actual philosophy, which they formally name Animalism. Soon after, Napoleon and Squealer indulge in the vices of humans (drinking alcohol, sleeping in beds, trading). Squealer is employed to alter the Seven Commandments to account for this humanisation, an allusion to the Soviet government\\'s revising of history in order to exercise control of the people\\'s beliefs about themselves and their society. The original commandments are: # Whatever goes upon two legs is an enemy. # Whatever goes upon four legs, or has wings, is a friend. # No animal shall wear clothes. # No animal shall sleep in a bed. # No animal shall drink alcohol. # No animal shall kill any other animal. # All animals are equal. Later, Napoleon and his pigs secretly revise some commandments to clear them of accusations of law-breaking (such as \"No animal shall drink alcohol\" having \"to excess\" appended to it and \"No animal shall sleep in a bed\" with \"with sheets\" added to it). The changed commandments are as follows, with the changes bolded: * 4 No animal shall sleep in a bed with sheets. * 5 No animal shall drink alcohol to excess. * 6 No animal shall kill any other animal without cause. Eventually these are replaced with the maxims, \"All animals are equal, but some animals are more equal than others\", and \"Four legs good, two legs better!\" as the pigs become more human. This is an ironic twist to the original purpose of the Seven Commandments, which were supposed to keep order within Animal Farm by uniting the animals together against the humans, and prevent animals from following the humans\\' evil habits. Through the revision of the commandments, Orwell demonstrates how simply political dogma can be turned into malleable propaganda.\\n']\n"
     ]
    }
   ],
   "source": [
    "file = open(\"booksummaries.txt\", \"r\")\n",
    "for line in file:\n",
    "    line_parts = line.split(\"\\t\")\n",
    "    print(line_parts)\n",
    "    break\n",
    "file.close()"
   ]
  },
  {
   "cell_type": "markdown",
   "id": "084032e5-38f0-485b-90eb-8a9abaaf7490",
   "metadata": {},
   "source": [
    "There is another dictionary on index 5 (i.e. genres). I need to convert it."
   ]
  },
  {
   "cell_type": "code",
   "execution_count": 7,
   "id": "39858213-dfc0-4c8c-bd44-07e972c11438",
   "metadata": {
    "tags": []
   },
   "outputs": [
    {
     "name": "stdout",
     "output_type": "stream",
     "text": [
      "{'/m/016lj8': 'Roman à clef', '/m/06nbt': 'Satire', '/m/0dwly': \"Children's literature\", '/m/014dfn': 'Speculative fiction', '/m/02xlf': 'Fiction'}\n"
     ]
    }
   ],
   "source": [
    "file = open(\"booksummaries.txt\", \"r\")\n",
    "for line in file:\n",
    "    line_parts = line.split(\"\\t\")\n",
    "    genres = json.loads(line_parts[5])\n",
    "    print(genres)\n",
    "    break\n",
    "file.close()"
   ]
  },
  {
   "cell_type": "markdown",
   "id": "42d1ec8d-e3bb-4c6d-ac4d-eef8f100877d",
   "metadata": {},
   "source": [
    "I want to separate these values in the dictionary. Since it is possible and readable, I use function chaining."
   ]
  },
  {
   "cell_type": "code",
   "execution_count": 8,
   "id": "ec261ed0-f28c-44c6-bb6a-09bd5aca5a48",
   "metadata": {
    "tags": []
   },
   "outputs": [
    {
     "name": "stdout",
     "output_type": "stream",
     "text": [
      "dict_values(['Roman à clef', 'Satire', \"Children's literature\", 'Speculative fiction', 'Fiction'])\n"
     ]
    }
   ],
   "source": [
    "file = open(\"booksummaries.txt\", \"r\")\n",
    "for line in file:\n",
    "    line_parts = line.split(\"\\t\")\n",
    "    genres = json.loads(line_parts[5]).values()\n",
    "    print(genres)\n",
    "    break\n",
    "file.close()"
   ]
  },
  {
   "cell_type": "markdown",
   "id": "42262faf-6c65-4225-b6cd-14b6b84d07cd",
   "metadata": {},
   "source": [
    "Since dict.values() returns a view of the dictionary, not a list, I need to wrap the whole expression in list()."
   ]
  },
  {
   "cell_type": "code",
   "execution_count": 9,
   "id": "b49d2962-11e4-4d54-b885-3b267d704276",
   "metadata": {
    "tags": []
   },
   "outputs": [
    {
     "name": "stdout",
     "output_type": "stream",
     "text": [
      "['Roman à clef', 'Satire', \"Children's literature\", 'Speculative fiction', 'Fiction']\n"
     ]
    }
   ],
   "source": [
    "file = open(\"booksummaries.txt\", \"r\")\n",
    "for line in file:\n",
    "    line_parts = line.split(\"\\t\")\n",
    "    genres = list(json.loads(line_parts[5]).values())\n",
    "    print(genres)\n",
    "    break\n",
    "file.close()"
   ]
  },
  {
   "cell_type": "markdown",
   "id": "507be58c-cfbf-4b92-aba2-f195b2dbdc8b",
   "metadata": {},
   "source": [
    "I want to create a comma-separated string. Because I don't know all genre names yet, I use semicolon as delimiter (just in case one genre regularly contains a comma)."
   ]
  },
  {
   "cell_type": "code",
   "execution_count": 10,
   "id": "5659f1d8-7321-40f4-93b9-4daa64d19b11",
   "metadata": {
    "tags": []
   },
   "outputs": [
    {
     "name": "stdout",
     "output_type": "stream",
     "text": [
      "Roman à clef;Satire;Children's literature;Speculative fiction;Fiction\n"
     ]
    }
   ],
   "source": [
    "file = open(\"booksummaries.txt\", \"r\")\n",
    "for line in file:\n",
    "    line_parts = line.split(\"\\t\")\n",
    "    genres = list(json.loads(line_parts[5]).values())\n",
    "    genres_string = \";\".join(genres)\n",
    "    print(genres_string)\n",
    "    break\n",
    "file.close()"
   ]
  },
  {
   "cell_type": "markdown",
   "id": "359fe1c1-d7f2-43e5-aff7-5ec16bca901b",
   "metadata": {},
   "source": [
    "Due to parsing the lines from the source file, the last character of each line is a \\n indicating a new line. Let's get rid of it!"
   ]
  },
  {
   "cell_type": "code",
   "execution_count": 14,
   "id": "69709078-3eae-486f-97b6-6ed987f8d31a",
   "metadata": {
    "tags": []
   },
   "outputs": [
    {
     "name": "stdout",
     "output_type": "stream",
     "text": [
      "Old Major, the old boar on the Manor Farm, calls the animals on the farm for a meeting, where he compares the humans to parasites and teaches the animals a revolutionary song, 'Beasts of England'. When Major dies, two young pigs, Snowball and Napoleon, assume command and turn his dream into a philosophy. The animals revolt and drive the drunken and irresponsible Mr Jones from the farm, renaming it \"Animal Farm\". They adopt Seven Commandments of Animal-ism, the most important of which is, \"All animals are equal\". Snowball attempts to teach the animals reading and writing; food is plentiful, and the farm runs smoothly. The pigs elevate themselves to positions of leadership and set aside special food items, ostensibly for their personal health. Napoleon takes the pups from the farm dogs and trains them privately. Napoleon and Snowball struggle for leadership. When Snowball announces his plans to build a windmill, Napoleon has his dogs chase Snowball away and declares himself leader. Napoleon enacts changes to the governance structure of the farm, replacing meetings with a committee of pigs, who will run the farm. Using a young pig named Squealer as a \"mouthpiece\", Napoleon claims credit for the windmill idea. The animals work harder with the promise of easier lives with the windmill. After a violent storm, the animals find the windmill annihilated. Napoleon and Squealer convince the animals that Snowball destroyed it, although the scorn of the neighbouring farmers suggests that its walls were too thin. Once Snowball becomes a scapegoat, Napoleon begins purging the farm with his dogs, killing animals he accuses of consorting with his old rival. He and the pigs abuse their power, imposing more control while reserving privileges for themselves and rewriting history, villainising Snowball and glorifying Napoleon. Squealer justifies every statement Napoleon makes, even the pigs' alteration of the Seven Commandments of Animalism to benefit themselves. 'Beasts of England' is replaced by an anthem glorifying Napoleon, who appears to be adopting the lifestyle of a man. The animals remain convinced that they are better off than they were when under Mr Jones. Squealer abuses the animals' poor memories and invents numbers to show their improvement. Mr Frederick, one of the neighbouring farmers, attacks the farm, using blasting powder to blow up the restored windmill. Though the animals win the battle, they do so at great cost, as many, including Boxer the workhorse, are wounded. Despite his injuries, Boxer continues working harder and harder, until he collapses while working on the windmill. Napoleon sends for a van to take Boxer to the veterinary surgeon's, explaining that better care can be given there. Benjamin, the cynical donkey, who \"could read as well as any pig\", notices that the van belongs to a knacker, and attempts to mount a rescue; but the animals' attempts are futile. Squealer reports that the van was purchased by the hospital and the writing from the previous owner had not been repainted. He recounts a tale of Boxer's death in the hands of the best medical care. Years pass, and the pigs learn to walk upright, carry whips and wear clothes. The Seven Commandments are reduced to a single phrase: \"All animals are equal, but some animals are more equal than others\". Napoleon holds a dinner party for the pigs and the humans of the area, who congratulate Napoleon on having the hardest-working but least fed animals in the country. Napoleon announces an alliance with the humans, against the labouring classes of both \"worlds\". He abolishes practices and traditions related to the Revolution, and changes the name of the farm to \"The Manor Farm\". The animals, overhearing the conversation, notice that the faces of the pigs have begun changing. During a poker match, an argument breaks out between Napoleon and Mr Pilkington, and the animals realise that the faces of the pigs look like the faces of humans, and no one can tell the difference between them. The pigs Snowball, Napoleon, and Squealer adapt Old Major's ideas into an actual philosophy, which they formally name Animalism. Soon after, Napoleon and Squealer indulge in the vices of humans (drinking alcohol, sleeping in beds, trading). Squealer is employed to alter the Seven Commandments to account for this humanisation, an allusion to the Soviet government's revising of history in order to exercise control of the people's beliefs about themselves and their society. The original commandments are: # Whatever goes upon two legs is an enemy. # Whatever goes upon four legs, or has wings, is a friend. # No animal shall wear clothes. # No animal shall sleep in a bed. # No animal shall drink alcohol. # No animal shall kill any other animal. # All animals are equal. Later, Napoleon and his pigs secretly revise some commandments to clear them of accusations of law-breaking (such as \"No animal shall drink alcohol\" having \"to excess\" appended to it and \"No animal shall sleep in a bed\" with \"with sheets\" added to it). The changed commandments are as follows, with the changes bolded: * 4 No animal shall sleep in a bed with sheets. * 5 No animal shall drink alcohol to excess. * 6 No animal shall kill any other animal without cause. Eventually these are replaced with the maxims, \"All animals are equal, but some animals are more equal than others\", and \"Four legs good, two legs better!\" as the pigs become more human. This is an ironic twist to the original purpose of the Seven Commandments, which were supposed to keep order within Animal Farm by uniting the animals together against the humans, and prevent animals from following the humans' evil habits. Through the revision of the commandments, Orwell demonstrates how simply political dogma can be turned into malleable propaganda.\n"
     ]
    }
   ],
   "source": [
    "file = open(\"booksummaries.txt\", \"r\")\n",
    "for line in file:\n",
    "    line_parts = line.split(\"\\t\")\n",
    "    genres = list(json.loads(line_parts[5]).values())\n",
    "    genres_string = \";\".join(genres)\n",
    "    sanitized_plot = line_parts[6].strip()\n",
    "    print(sanitized_plot)\n",
    "    break\n",
    "file.close()"
   ]
  },
  {
   "cell_type": "markdown",
   "id": "1e5d7608-23bd-47e6-baed-daa0ff8a4672",
   "metadata": {},
   "source": [
    "Now let's populate the dictionary with the first line, i.e. book summary."
   ]
  },
  {
   "cell_type": "code",
   "execution_count": 21,
   "id": "086f9901-7b67-48ba-8f99-836334b00d34",
   "metadata": {
    "tags": []
   },
   "outputs": [],
   "source": [
    "file = open(\"booksummaries.txt\", \"r\")\n",
    "for line in file:\n",
    "    line_parts = line.split(\"\\t\")\n",
    "    genres = list(json.loads(line_parts[5]).values())\n",
    "    genres_string = \";\".join(genres)\n",
    "    sanitized_plot = line_parts[6].strip()\n",
    "    \n",
    "    data[\"wikipedia_article_id\"].append(line_parts[0])\n",
    "    data[\"freebase_id\"].append(line_parts[1])\n",
    "    data[\"book_title\"].append(line_parts[2])\n",
    "    data[\"author\"].append(line_parts[3])\n",
    "    data[\"publication_date\"].append(line_parts[4])\n",
    "    data[\"book_genres\"].append(genres_string)\n",
    "    data[\"plot_summary\"].append(sanitized_plot)\n",
    "    break\n",
    "file.close()"
   ]
  },
  {
   "cell_type": "code",
   "execution_count": 22,
   "id": "4d2d4cd1-0701-4986-9af8-2042e571123f",
   "metadata": {
    "tags": []
   },
   "outputs": [
    {
     "name": "stdout",
     "output_type": "stream",
     "text": [
      "{'wikipedia_article_id': ['620'], 'freebase_id': ['/m/0hhy'], 'book_title': ['Animal Farm'], 'author': ['George Orwell'], 'publication_date': ['1945-08-17'], 'book_genres': [\"Roman à clef;Satire;Children's literature;Speculative fiction;Fiction\"], 'plot_summary': ['Old Major, the old boar on the Manor Farm, calls the animals on the farm for a meeting, where he compares the humans to parasites and teaches the animals a revolutionary song, \\'Beasts of England\\'. When Major dies, two young pigs, Snowball and Napoleon, assume command and turn his dream into a philosophy. The animals revolt and drive the drunken and irresponsible Mr Jones from the farm, renaming it \"Animal Farm\". They adopt Seven Commandments of Animal-ism, the most important of which is, \"All animals are equal\". Snowball attempts to teach the animals reading and writing; food is plentiful, and the farm runs smoothly. The pigs elevate themselves to positions of leadership and set aside special food items, ostensibly for their personal health. Napoleon takes the pups from the farm dogs and trains them privately. Napoleon and Snowball struggle for leadership. When Snowball announces his plans to build a windmill, Napoleon has his dogs chase Snowball away and declares himself leader. Napoleon enacts changes to the governance structure of the farm, replacing meetings with a committee of pigs, who will run the farm. Using a young pig named Squealer as a \"mouthpiece\", Napoleon claims credit for the windmill idea. The animals work harder with the promise of easier lives with the windmill. After a violent storm, the animals find the windmill annihilated. Napoleon and Squealer convince the animals that Snowball destroyed it, although the scorn of the neighbouring farmers suggests that its walls were too thin. Once Snowball becomes a scapegoat, Napoleon begins purging the farm with his dogs, killing animals he accuses of consorting with his old rival. He and the pigs abuse their power, imposing more control while reserving privileges for themselves and rewriting history, villainising Snowball and glorifying Napoleon. Squealer justifies every statement Napoleon makes, even the pigs\\' alteration of the Seven Commandments of Animalism to benefit themselves. \\'Beasts of England\\' is replaced by an anthem glorifying Napoleon, who appears to be adopting the lifestyle of a man. The animals remain convinced that they are better off than they were when under Mr Jones. Squealer abuses the animals\\' poor memories and invents numbers to show their improvement. Mr Frederick, one of the neighbouring farmers, attacks the farm, using blasting powder to blow up the restored windmill. Though the animals win the battle, they do so at great cost, as many, including Boxer the workhorse, are wounded. Despite his injuries, Boxer continues working harder and harder, until he collapses while working on the windmill. Napoleon sends for a van to take Boxer to the veterinary surgeon\\'s, explaining that better care can be given there. Benjamin, the cynical donkey, who \"could read as well as any pig\", notices that the van belongs to a knacker, and attempts to mount a rescue; but the animals\\' attempts are futile. Squealer reports that the van was purchased by the hospital and the writing from the previous owner had not been repainted. He recounts a tale of Boxer\\'s death in the hands of the best medical care. Years pass, and the pigs learn to walk upright, carry whips and wear clothes. The Seven Commandments are reduced to a single phrase: \"All animals are equal, but some animals are more equal than others\". Napoleon holds a dinner party for the pigs and the humans of the area, who congratulate Napoleon on having the hardest-working but least fed animals in the country. Napoleon announces an alliance with the humans, against the labouring classes of both \"worlds\". He abolishes practices and traditions related to the Revolution, and changes the name of the farm to \"The Manor Farm\". The animals, overhearing the conversation, notice that the faces of the pigs have begun changing. During a poker match, an argument breaks out between Napoleon and Mr Pilkington, and the animals realise that the faces of the pigs look like the faces of humans, and no one can tell the difference between them. The pigs Snowball, Napoleon, and Squealer adapt Old Major\\'s ideas into an actual philosophy, which they formally name Animalism. Soon after, Napoleon and Squealer indulge in the vices of humans (drinking alcohol, sleeping in beds, trading). Squealer is employed to alter the Seven Commandments to account for this humanisation, an allusion to the Soviet government\\'s revising of history in order to exercise control of the people\\'s beliefs about themselves and their society. The original commandments are: # Whatever goes upon two legs is an enemy. # Whatever goes upon four legs, or has wings, is a friend. # No animal shall wear clothes. # No animal shall sleep in a bed. # No animal shall drink alcohol. # No animal shall kill any other animal. # All animals are equal. Later, Napoleon and his pigs secretly revise some commandments to clear them of accusations of law-breaking (such as \"No animal shall drink alcohol\" having \"to excess\" appended to it and \"No animal shall sleep in a bed\" with \"with sheets\" added to it). The changed commandments are as follows, with the changes bolded: * 4 No animal shall sleep in a bed with sheets. * 5 No animal shall drink alcohol to excess. * 6 No animal shall kill any other animal without cause. Eventually these are replaced with the maxims, \"All animals are equal, but some animals are more equal than others\", and \"Four legs good, two legs better!\" as the pigs become more human. This is an ironic twist to the original purpose of the Seven Commandments, which were supposed to keep order within Animal Farm by uniting the animals together against the humans, and prevent animals from following the humans\\' evil habits. Through the revision of the commandments, Orwell demonstrates how simply political dogma can be turned into malleable propaganda.']}\n"
     ]
    }
   ],
   "source": [
    "print(data)"
   ]
  },
  {
   "cell_type": "markdown",
   "id": "77998e7e-4b68-4948-ae90-7920b0023016",
   "metadata": {},
   "source": [
    "Seems to work! Now let's remove the break statement to populate the dictionary with the complete source data, i.e. 16,559 books.\n",
    "But first I have to execute the dictionary again to empty it. "
   ]
  },
  {
   "cell_type": "code",
   "execution_count": 3,
   "id": "fe9ccad8-2138-46e4-8150-571dce5c27c8",
   "metadata": {
    "tags": []
   },
   "outputs": [
    {
     "name": "stdout",
     "output_type": "stream",
     "text": [
      "{'wikipedia_article_id': [], 'freebase_id': [], 'book_title': [], 'author': [], 'publication_date': [], 'book_genres': [], 'plot_summary': []}\n"
     ]
    }
   ],
   "source": [
    "data = {\n",
    "    \"wikipedia_article_id\": [],\n",
    "    \"freebase_id\": [],\n",
    "    \"book_title\": [],\n",
    "    \"author\": [],\n",
    "    \"publication_date\": [],\n",
    "    \"book_genres\": [],\n",
    "    \"plot_summary\": [],\n",
    "}\n",
    "print(data)"
   ]
  },
  {
   "cell_type": "code",
   "execution_count": 4,
   "id": "07967252-28a7-4837-b5c5-5e80d70d87f5",
   "metadata": {
    "tags": []
   },
   "outputs": [],
   "source": [
    "file = open(\"booksummaries.txt\", \"r\")\n",
    "\n",
    "for line in file:\n",
    "    line_parts = line.split(\"\\t\")\n",
    "    # I need to check for JSONDecodeErrors since I got this error. I checked the data set manually and now I know that the error was thrown because some books don't have a genre.\n",
    "    try:\n",
    "        genres = list(json.loads(line_parts[5]).values())\n",
    "        genres_string = \";\".join(genres)\n",
    "    except JSONDecodeError as error:\n",
    "        genres_string = \"\"\n",
    "   \n",
    "    sanitized_plot = line_parts[6].strip()\n",
    "    \n",
    "    data[\"wikipedia_article_id\"].append(line_parts[0])\n",
    "    data[\"freebase_id\"].append(line_parts[1])\n",
    "    data[\"book_title\"].append(line_parts[2])\n",
    "    data[\"author\"].append(line_parts[3])\n",
    "    data[\"publication_date\"].append(line_parts[4])\n",
    "    data[\"book_genres\"].append(genres_string)\n",
    "    data[\"plot_summary\"].append(sanitized_plot)\n",
    "    \n",
    "file.close()"
   ]
  },
  {
   "cell_type": "code",
   "execution_count": 39,
   "id": "82de54ee-b323-4d8b-a155-38829d6ab177",
   "metadata": {
    "tags": []
   },
   "outputs": [
    {
     "name": "stderr",
     "output_type": "stream",
     "text": [
      "IOPub data rate exceeded.\n",
      "The Jupyter server will temporarily stop sending output\n",
      "to the client in order to avoid crashing it.\n",
      "To change this limit, set the config variable\n",
      "`--ServerApp.iopub_data_rate_limit`.\n",
      "\n",
      "Current values:\n",
      "ServerApp.iopub_data_rate_limit=1000000.0 (bytes/sec)\n",
      "ServerApp.rate_limit_window=3.0 (secs)\n",
      "\n"
     ]
    }
   ],
   "source": [
    "print(data)"
   ]
  },
  {
   "cell_type": "markdown",
   "id": "932ddf1e-c373-4245-9f90-974722053918",
   "metadata": {},
   "source": [
    "It seems that my dataset is too big for Jupyter to handle the printing. (: I just count how many items have been added."
   ]
  },
  {
   "cell_type": "code",
   "execution_count": 5,
   "id": "8734f846-c3d9-4087-8dd2-54abc6a2bda7",
   "metadata": {
    "tags": []
   },
   "outputs": [
    {
     "name": "stdout",
     "output_type": "stream",
     "text": [
      "16559\n",
      "16559\n",
      "16559\n",
      "16559\n",
      "16559\n",
      "16559\n",
      "16559\n"
     ]
    }
   ],
   "source": [
    "print(len(data[\"wikipedia_article_id\"]))\n",
    "print(len(data[\"freebase_id\"]))\n",
    "print(len(data[\"book_title\"]))\n",
    "print(len(data[\"author\"]))\n",
    "print(len(data[\"publication_date\"]))\n",
    "print(len(data[\"book_genres\"]))\n",
    "print(len(data[\"plot_summary\"]))"
   ]
  },
  {
   "cell_type": "markdown",
   "id": "4484be39-b7e1-405c-b8ec-fe047db78197",
   "metadata": {},
   "source": [
    "Every entry in the dictionary has the same and right amount of items. The data transformation is thereby completed. Now let's open the dataset in a Pandas Dataframe."
   ]
  },
  {
   "cell_type": "code",
   "execution_count": 7,
   "id": "8f435694-b2f6-438b-96fc-257a23d57d11",
   "metadata": {
    "tags": []
   },
   "outputs": [
    {
     "name": "stdout",
     "output_type": "stream",
     "text": [
      "      wikipedia_article_id freebase_id  \\\n",
      "0                      620     /m/0hhy   \n",
      "1                      843     /m/0k36   \n",
      "2                      986     /m/0ldx   \n",
      "3                     1756     /m/0sww   \n",
      "4                     2080     /m/0wkt   \n",
      "...                    ...         ...   \n",
      "16554             36934824  /m/0m0p0hr   \n",
      "16555             37054020  /m/04f1nbs   \n",
      "16556             37122323  /m/0n5236t   \n",
      "16557             37132319  /m/0n4bqb1   \n",
      "16558             37159503   /m/073nkd   \n",
      "\n",
      "                                              book_title              author  \\\n",
      "0                                            Animal Farm       George Orwell   \n",
      "1                                     A Clockwork Orange     Anthony Burgess   \n",
      "2                                             The Plague        Albert Camus   \n",
      "3              An Enquiry Concerning Human Understanding          David Hume   \n",
      "4                                   A Fire Upon the Deep        Vernor Vinge   \n",
      "...                                                  ...                 ...   \n",
      "16554                                     Under Wildwood         Colin Meloy   \n",
      "16555                                  Transfer of Power         Vince Flynn   \n",
      "16556                                            Decoded               Jay-Z   \n",
      "16557  America Again: Re-becoming The Greatness We Ne...     Stephen Colbert   \n",
      "16558                                          Poor Folk  Fyodor Dostoyevsky   \n",
      "\n",
      "      publication_date                                        book_genres  \\\n",
      "0           1945-08-17  Roman à clef;Satire;Children's literature;Spec...   \n",
      "1                 1962  Science Fiction;Novella;Speculative fiction;Ut...   \n",
      "2                 1947     Existentialism;Fiction;Absurdist fiction;Novel   \n",
      "3                                                                           \n",
      "4                       Hard science fiction;Science Fiction;Speculati...   \n",
      "...                ...                                                ...   \n",
      "16554       2012-09-25                                                      \n",
      "16555       2000-06-01                                   Thriller;Fiction   \n",
      "16556       2010-11-16                                      Autobiography   \n",
      "16557       2012-10-02                                                      \n",
      "16558             1846               Epistolary novel;Speculative fiction   \n",
      "\n",
      "                                            plot_summary  \n",
      "0      Old Major, the old boar on the Manor Farm, cal...  \n",
      "1      Alex, a teenager living in near-future England...  \n",
      "2      The text of The Plague is divided into five pa...  \n",
      "3      The argument of the Enquiry proceeds by a seri...  \n",
      "4      The novel posits that space around the Milky W...  \n",
      "...                                                  ...  \n",
      "16554  Prue McKeel, having rescued her brother from t...  \n",
      "16555  The reader first meets Rapp while he is doing ...  \n",
      "16556  The book follows very rough chronological orde...  \n",
      "16557  Colbert addresses topics including Wall Street...  \n",
      "16558  Makar Devushkin and Varvara Dobroselova are se...  \n",
      "\n",
      "[16559 rows x 7 columns]\n"
     ]
    }
   ],
   "source": [
    "data_frame = pd.DataFrame(data=data)\n",
    "print(data_frame)"
   ]
  },
  {
   "cell_type": "markdown",
   "id": "518ee012-dbbb-4f80-a9d3-9b247afdea75",
   "metadata": {},
   "source": [
    "Now let's start with the exploration of the data and describe it. I developed five research questions for my dataset. The first one is about the publication dates:\n",
    "> 1. How are the publication dates distributed? Is there a decennial that was most productive and least productive?"
   ]
  },
  {
   "cell_type": "code",
   "execution_count": 8,
   "id": "f5417916-fcf2-48da-a7d7-a48cfc162f98",
   "metadata": {
    "tags": []
   },
   "outputs": [
    {
     "ename": "TypeError",
     "evalue": "no numeric data to plot",
     "output_type": "error",
     "traceback": [
      "\u001b[0;31m---------------------------------------------------------------------------\u001b[0m",
      "\u001b[0;31mTypeError\u001b[0m                                 Traceback (most recent call last)",
      "Cell \u001b[0;32mIn[8], line 1\u001b[0m\n\u001b[0;32m----> 1\u001b[0m data_frame\u001b[38;5;241m.\u001b[39mplot()\n",
      "File \u001b[0;32m~/anaconda3/lib/python3.11/site-packages/pandas/plotting/_core.py:975\u001b[0m, in \u001b[0;36mPlotAccessor.__call__\u001b[0;34m(self, *args, **kwargs)\u001b[0m\n\u001b[1;32m    972\u001b[0m             label_name \u001b[38;5;241m=\u001b[39m label_kw \u001b[38;5;129;01mor\u001b[39;00m data\u001b[38;5;241m.\u001b[39mcolumns\n\u001b[1;32m    973\u001b[0m             data\u001b[38;5;241m.\u001b[39mcolumns \u001b[38;5;241m=\u001b[39m label_name\n\u001b[0;32m--> 975\u001b[0m \u001b[38;5;28;01mreturn\u001b[39;00m plot_backend\u001b[38;5;241m.\u001b[39mplot(data, kind\u001b[38;5;241m=\u001b[39mkind, \u001b[38;5;241m*\u001b[39m\u001b[38;5;241m*\u001b[39mkwargs)\n",
      "File \u001b[0;32m~/anaconda3/lib/python3.11/site-packages/pandas/plotting/_matplotlib/__init__.py:71\u001b[0m, in \u001b[0;36mplot\u001b[0;34m(data, kind, **kwargs)\u001b[0m\n\u001b[1;32m     69\u001b[0m         kwargs[\u001b[38;5;124m\"\u001b[39m\u001b[38;5;124max\u001b[39m\u001b[38;5;124m\"\u001b[39m] \u001b[38;5;241m=\u001b[39m \u001b[38;5;28mgetattr\u001b[39m(ax, \u001b[38;5;124m\"\u001b[39m\u001b[38;5;124mleft_ax\u001b[39m\u001b[38;5;124m\"\u001b[39m, ax)\n\u001b[1;32m     70\u001b[0m plot_obj \u001b[38;5;241m=\u001b[39m PLOT_CLASSES[kind](data, \u001b[38;5;241m*\u001b[39m\u001b[38;5;241m*\u001b[39mkwargs)\n\u001b[0;32m---> 71\u001b[0m plot_obj\u001b[38;5;241m.\u001b[39mgenerate()\n\u001b[1;32m     72\u001b[0m plot_obj\u001b[38;5;241m.\u001b[39mdraw()\n\u001b[1;32m     73\u001b[0m \u001b[38;5;28;01mreturn\u001b[39;00m plot_obj\u001b[38;5;241m.\u001b[39mresult\n",
      "File \u001b[0;32m~/anaconda3/lib/python3.11/site-packages/pandas/plotting/_matplotlib/core.py:446\u001b[0m, in \u001b[0;36mMPLPlot.generate\u001b[0;34m(self)\u001b[0m\n\u001b[1;32m    444\u001b[0m \u001b[38;5;28;01mdef\u001b[39;00m \u001b[38;5;21mgenerate\u001b[39m(\u001b[38;5;28mself\u001b[39m) \u001b[38;5;241m-\u001b[39m\u001b[38;5;241m>\u001b[39m \u001b[38;5;28;01mNone\u001b[39;00m:\n\u001b[1;32m    445\u001b[0m     \u001b[38;5;28mself\u001b[39m\u001b[38;5;241m.\u001b[39m_args_adjust()\n\u001b[0;32m--> 446\u001b[0m     \u001b[38;5;28mself\u001b[39m\u001b[38;5;241m.\u001b[39m_compute_plot_data()\n\u001b[1;32m    447\u001b[0m     \u001b[38;5;28mself\u001b[39m\u001b[38;5;241m.\u001b[39m_setup_subplots()\n\u001b[1;32m    448\u001b[0m     \u001b[38;5;28mself\u001b[39m\u001b[38;5;241m.\u001b[39m_make_plot()\n",
      "File \u001b[0;32m~/anaconda3/lib/python3.11/site-packages/pandas/plotting/_matplotlib/core.py:632\u001b[0m, in \u001b[0;36mMPLPlot._compute_plot_data\u001b[0;34m(self)\u001b[0m\n\u001b[1;32m    630\u001b[0m \u001b[38;5;66;03m# no non-numeric frames or series allowed\u001b[39;00m\n\u001b[1;32m    631\u001b[0m \u001b[38;5;28;01mif\u001b[39;00m is_empty:\n\u001b[0;32m--> 632\u001b[0m     \u001b[38;5;28;01mraise\u001b[39;00m \u001b[38;5;167;01mTypeError\u001b[39;00m(\u001b[38;5;124m\"\u001b[39m\u001b[38;5;124mno numeric data to plot\u001b[39m\u001b[38;5;124m\"\u001b[39m)\n\u001b[1;32m    634\u001b[0m \u001b[38;5;28mself\u001b[39m\u001b[38;5;241m.\u001b[39mdata \u001b[38;5;241m=\u001b[39m numeric_data\u001b[38;5;241m.\u001b[39mapply(\u001b[38;5;28mself\u001b[39m\u001b[38;5;241m.\u001b[39m_convert_to_ndarray)\n",
      "\u001b[0;31mTypeError\u001b[0m: no numeric data to plot"
     ]
    }
   ],
   "source": [
    "data_frame.plot()"
   ]
  },
  {
   "cell_type": "markdown",
   "id": "846b7df5-3a11-44d6-870d-29403d43b3b7",
   "metadata": {},
   "source": [
    "I need to add some numeric data, therefore I add an additional column that only contains the publication year."
   ]
  },
  {
   "cell_type": "code",
   "execution_count": 53,
   "id": "8521991e-0c42-4fff-b0ae-1a7a1823ea31",
   "metadata": {
    "tags": []
   },
   "outputs": [
    {
     "name": "stdout",
     "output_type": "stream",
     "text": [
      "{'wikipedia_article_id': [], 'freebase_id': [], 'book_title': [], 'author': [], 'publication_date': [], 'publication_year': [], 'book_genres': [], 'plot_summary': []}\n"
     ]
    }
   ],
   "source": [
    "data = {\n",
    "    \"wikipedia_article_id\": [],\n",
    "    \"freebase_id\": [],\n",
    "    \"book_title\": [],\n",
    "    \"author\": [],\n",
    "    \"publication_date\": [],\n",
    "    \"publication_year\": [],\n",
    "    \"book_genres\": [],\n",
    "    \"plot_summary\": [],\n",
    "}\n",
    "print(data)"
   ]
  },
  {
   "cell_type": "markdown",
   "id": "e69121e1-1291-4f4b-9055-1edb9377d0a1",
   "metadata": {},
   "source": [
    "According to the example data I can encounter three date formats."
   ]
  },
  {
   "cell_type": "code",
   "execution_count": 16,
   "id": "c570a677-57c1-40cc-a3b9-ce46d95a208b",
   "metadata": {
    "tags": []
   },
   "outputs": [
    {
     "name": "stdout",
     "output_type": "stream",
     "text": [
      "1999 1999\n"
     ]
    }
   ],
   "source": [
    "test1 = \"1999-01-01\"\n",
    "test2 = \"1999\"\n",
    "test3 = \"\"\n",
    "result1 = int(test1.split(\"-\")[0])\n",
    "result2 = int(test2.split(\"-\")[0])\n",
    "# result3 = int(test3.split(\"-\")[0])\n",
    "print(result1,result2)"
   ]
  },
  {
   "cell_type": "code",
   "execution_count": 54,
   "id": "ceaed92f-dd99-4bab-983b-c94a73818baa",
   "metadata": {
    "tags": []
   },
   "outputs": [],
   "source": [
    "file = open(\"booksummaries.txt\", \"r\")\n",
    "\n",
    "for line in file:\n",
    "    line_parts = line.split(\"\\t\")\n",
    "    # I need to check for JSONDecodeErrors since I got this error. I checked the data set manually and now I know that the error was thrown because some books don't have a genre.\n",
    "    try:\n",
    "        genres = list(json.loads(line_parts[5]).values())\n",
    "        genres_string = \";\".join(genres)\n",
    "    except JSONDecodeError as error:\n",
    "        genres_string = \"\"\n",
    "   \n",
    "    sanitized_plot = line_parts[6].strip()\n",
    "    \n",
    "    year = line_parts[4].split(\"-\")[0]\n",
    "    if len(year) >= 1:\n",
    "        publication_year = int(year)\n",
    "    else:\n",
    "        publication_year = 0\n",
    "    \n",
    "    data[\"wikipedia_article_id\"].append(line_parts[0])\n",
    "    data[\"freebase_id\"].append(line_parts[1])\n",
    "    data[\"book_title\"].append(line_parts[2])\n",
    "    data[\"author\"].append(line_parts[3])\n",
    "    data[\"publication_date\"].append(line_parts[4])    \n",
    "    data[\"publication_year\"].append(publication_year)\n",
    "    data[\"book_genres\"].append(genres_string)\n",
    "    data[\"plot_summary\"].append(sanitized_plot)\n",
    "    \n",
    "file.close()"
   ]
  },
  {
   "cell_type": "code",
   "execution_count": 55,
   "id": "8b9a3480-c471-4a29-8e4d-5cab2cc4f45f",
   "metadata": {
    "tags": []
   },
   "outputs": [
    {
     "name": "stdout",
     "output_type": "stream",
     "text": [
      "      wikipedia_article_id freebase_id  \\\n",
      "0                      620     /m/0hhy   \n",
      "1                      843     /m/0k36   \n",
      "2                      986     /m/0ldx   \n",
      "3                     1756     /m/0sww   \n",
      "4                     2080     /m/0wkt   \n",
      "...                    ...         ...   \n",
      "16554             36934824  /m/0m0p0hr   \n",
      "16555             37054020  /m/04f1nbs   \n",
      "16556             37122323  /m/0n5236t   \n",
      "16557             37132319  /m/0n4bqb1   \n",
      "16558             37159503   /m/073nkd   \n",
      "\n",
      "                                              book_title              author  \\\n",
      "0                                            Animal Farm       George Orwell   \n",
      "1                                     A Clockwork Orange     Anthony Burgess   \n",
      "2                                             The Plague        Albert Camus   \n",
      "3              An Enquiry Concerning Human Understanding          David Hume   \n",
      "4                                   A Fire Upon the Deep        Vernor Vinge   \n",
      "...                                                  ...                 ...   \n",
      "16554                                     Under Wildwood         Colin Meloy   \n",
      "16555                                  Transfer of Power         Vince Flynn   \n",
      "16556                                            Decoded               Jay-Z   \n",
      "16557  America Again: Re-becoming The Greatness We Ne...     Stephen Colbert   \n",
      "16558                                          Poor Folk  Fyodor Dostoyevsky   \n",
      "\n",
      "      publication_date  publication_year  \\\n",
      "0           1945-08-17              1945   \n",
      "1                 1962              1962   \n",
      "2                 1947              1947   \n",
      "3                                      0   \n",
      "4                                      0   \n",
      "...                ...               ...   \n",
      "16554       2012-09-25              2012   \n",
      "16555       2000-06-01              2000   \n",
      "16556       2010-11-16              2010   \n",
      "16557       2012-10-02              2012   \n",
      "16558             1846              1846   \n",
      "\n",
      "                                             book_genres  \\\n",
      "0      Roman à clef;Satire;Children's literature;Spec...   \n",
      "1      Science Fiction;Novella;Speculative fiction;Ut...   \n",
      "2         Existentialism;Fiction;Absurdist fiction;Novel   \n",
      "3                                                          \n",
      "4      Hard science fiction;Science Fiction;Speculati...   \n",
      "...                                                  ...   \n",
      "16554                                                      \n",
      "16555                                   Thriller;Fiction   \n",
      "16556                                      Autobiography   \n",
      "16557                                                      \n",
      "16558               Epistolary novel;Speculative fiction   \n",
      "\n",
      "                                            plot_summary  \n",
      "0      Old Major, the old boar on the Manor Farm, cal...  \n",
      "1      Alex, a teenager living in near-future England...  \n",
      "2      The text of The Plague is divided into five pa...  \n",
      "3      The argument of the Enquiry proceeds by a seri...  \n",
      "4      The novel posits that space around the Milky W...  \n",
      "...                                                  ...  \n",
      "16554  Prue McKeel, having rescued her brother from t...  \n",
      "16555  The reader first meets Rapp while he is doing ...  \n",
      "16556  The book follows very rough chronological orde...  \n",
      "16557  Colbert addresses topics including Wall Street...  \n",
      "16558  Makar Devushkin and Varvara Dobroselova are se...  \n",
      "\n",
      "[16559 rows x 8 columns]\n"
     ]
    }
   ],
   "source": [
    "data_frame = pd.DataFrame(data=data)\n",
    "print(data_frame)"
   ]
  },
  {
   "cell_type": "code",
   "execution_count": 35,
   "id": "1cff48c2-5e4e-4d9d-a25a-7ce700eddaf9",
   "metadata": {
    "tags": []
   },
   "outputs": [
    {
     "data": {
      "text/html": [
       "<div>\n",
       "<style scoped>\n",
       "    .dataframe tbody tr th:only-of-type {\n",
       "        vertical-align: middle;\n",
       "    }\n",
       "\n",
       "    .dataframe tbody tr th {\n",
       "        vertical-align: top;\n",
       "    }\n",
       "\n",
       "    .dataframe thead th {\n",
       "        text-align: right;\n",
       "    }\n",
       "</style>\n",
       "<table border=\"1\" class=\"dataframe\">\n",
       "  <thead>\n",
       "    <tr style=\"text-align: right;\">\n",
       "      <th></th>\n",
       "      <th>wikipedia_article_id</th>\n",
       "      <th>freebase_id</th>\n",
       "      <th>book_title</th>\n",
       "      <th>author</th>\n",
       "      <th>publication_date</th>\n",
       "      <th>publication_year</th>\n",
       "      <th>book_genres</th>\n",
       "      <th>plot_summary</th>\n",
       "    </tr>\n",
       "  </thead>\n",
       "  <tbody>\n",
       "    <tr>\n",
       "      <th>0</th>\n",
       "      <td>620</td>\n",
       "      <td>/m/0hhy</td>\n",
       "      <td>Animal Farm</td>\n",
       "      <td>George Orwell</td>\n",
       "      <td>1945-08-17</td>\n",
       "      <td>1945</td>\n",
       "      <td>Roman à clef;Satire;Children's literature;Spec...</td>\n",
       "      <td>Old Major, the old boar on the Manor Farm, cal...</td>\n",
       "    </tr>\n",
       "    <tr>\n",
       "      <th>1</th>\n",
       "      <td>843</td>\n",
       "      <td>/m/0k36</td>\n",
       "      <td>A Clockwork Orange</td>\n",
       "      <td>Anthony Burgess</td>\n",
       "      <td>1962</td>\n",
       "      <td>1962</td>\n",
       "      <td>Science Fiction;Novella;Speculative fiction;Ut...</td>\n",
       "      <td>Alex, a teenager living in near-future England...</td>\n",
       "    </tr>\n",
       "    <tr>\n",
       "      <th>2</th>\n",
       "      <td>986</td>\n",
       "      <td>/m/0ldx</td>\n",
       "      <td>The Plague</td>\n",
       "      <td>Albert Camus</td>\n",
       "      <td>1947</td>\n",
       "      <td>1947</td>\n",
       "      <td>Existentialism;Fiction;Absurdist fiction;Novel</td>\n",
       "      <td>The text of The Plague is divided into five pa...</td>\n",
       "    </tr>\n",
       "    <tr>\n",
       "      <th>3</th>\n",
       "      <td>1756</td>\n",
       "      <td>/m/0sww</td>\n",
       "      <td>An Enquiry Concerning Human Understanding</td>\n",
       "      <td>David Hume</td>\n",
       "      <td></td>\n",
       "      <td>0</td>\n",
       "      <td></td>\n",
       "      <td>The argument of the Enquiry proceeds by a seri...</td>\n",
       "    </tr>\n",
       "    <tr>\n",
       "      <th>4</th>\n",
       "      <td>2080</td>\n",
       "      <td>/m/0wkt</td>\n",
       "      <td>A Fire Upon the Deep</td>\n",
       "      <td>Vernor Vinge</td>\n",
       "      <td></td>\n",
       "      <td>0</td>\n",
       "      <td>Hard science fiction;Science Fiction;Speculati...</td>\n",
       "      <td>The novel posits that space around the Milky W...</td>\n",
       "    </tr>\n",
       "    <tr>\n",
       "      <th>5</th>\n",
       "      <td>2152</td>\n",
       "      <td>/m/0x5g</td>\n",
       "      <td>All Quiet on the Western Front</td>\n",
       "      <td>Erich Maria Remarque</td>\n",
       "      <td>1929-01-29</td>\n",
       "      <td>1929</td>\n",
       "      <td>War novel;Roman à clef</td>\n",
       "      <td>The book tells the story of Paul Bäumer, a Ger...</td>\n",
       "    </tr>\n",
       "    <tr>\n",
       "      <th>6</th>\n",
       "      <td>2890</td>\n",
       "      <td>/m/011zx</td>\n",
       "      <td>A Wizard of Earthsea</td>\n",
       "      <td>Ursula K. Le Guin</td>\n",
       "      <td>1968</td>\n",
       "      <td>1968</td>\n",
       "      <td>Children's literature;Fantasy;Speculative fict...</td>\n",
       "      <td>Ged is a young boy on Gont, one of the larger ...</td>\n",
       "    </tr>\n",
       "    <tr>\n",
       "      <th>7</th>\n",
       "      <td>2950</td>\n",
       "      <td>/m/012dq</td>\n",
       "      <td>Anyone Can Whistle</td>\n",
       "      <td>Arthur Laurents</td>\n",
       "      <td></td>\n",
       "      <td>0</td>\n",
       "      <td></td>\n",
       "      <td>The story is set in an imaginary American town...</td>\n",
       "    </tr>\n",
       "    <tr>\n",
       "      <th>8</th>\n",
       "      <td>4081</td>\n",
       "      <td>/m/01b4w</td>\n",
       "      <td>Blade Runner 3: Replicant Night</td>\n",
       "      <td>K. W. Jeter</td>\n",
       "      <td>1996-10-01</td>\n",
       "      <td>1996</td>\n",
       "      <td>Science Fiction;Speculative fiction</td>\n",
       "      <td>Living on Mars, Deckard is acting as a consult...</td>\n",
       "    </tr>\n",
       "    <tr>\n",
       "      <th>9</th>\n",
       "      <td>4082</td>\n",
       "      <td>/m/01b56</td>\n",
       "      <td>Blade Runner 2: The Edge of Human</td>\n",
       "      <td>K. W. Jeter</td>\n",
       "      <td>1995-10-01</td>\n",
       "      <td>1995</td>\n",
       "      <td>Science Fiction;Speculative fiction</td>\n",
       "      <td>Beginning several months after the events in B...</td>\n",
       "    </tr>\n",
       "  </tbody>\n",
       "</table>\n",
       "</div>"
      ],
      "text/plain": [
       "  wikipedia_article_id freebase_id                                 book_title  \\\n",
       "0                  620     /m/0hhy                                Animal Farm   \n",
       "1                  843     /m/0k36                         A Clockwork Orange   \n",
       "2                  986     /m/0ldx                                 The Plague   \n",
       "3                 1756     /m/0sww  An Enquiry Concerning Human Understanding   \n",
       "4                 2080     /m/0wkt                       A Fire Upon the Deep   \n",
       "5                 2152     /m/0x5g             All Quiet on the Western Front   \n",
       "6                 2890    /m/011zx                       A Wizard of Earthsea   \n",
       "7                 2950    /m/012dq                         Anyone Can Whistle   \n",
       "8                 4081    /m/01b4w            Blade Runner 3: Replicant Night   \n",
       "9                 4082    /m/01b56          Blade Runner 2: The Edge of Human   \n",
       "\n",
       "                 author publication_date  publication_year  \\\n",
       "0         George Orwell       1945-08-17              1945   \n",
       "1       Anthony Burgess             1962              1962   \n",
       "2          Albert Camus             1947              1947   \n",
       "3            David Hume                                  0   \n",
       "4          Vernor Vinge                                  0   \n",
       "5  Erich Maria Remarque       1929-01-29              1929   \n",
       "6     Ursula K. Le Guin             1968              1968   \n",
       "7       Arthur Laurents                                  0   \n",
       "8           K. W. Jeter       1996-10-01              1996   \n",
       "9           K. W. Jeter       1995-10-01              1995   \n",
       "\n",
       "                                         book_genres  \\\n",
       "0  Roman à clef;Satire;Children's literature;Spec...   \n",
       "1  Science Fiction;Novella;Speculative fiction;Ut...   \n",
       "2     Existentialism;Fiction;Absurdist fiction;Novel   \n",
       "3                                                      \n",
       "4  Hard science fiction;Science Fiction;Speculati...   \n",
       "5                             War novel;Roman à clef   \n",
       "6  Children's literature;Fantasy;Speculative fict...   \n",
       "7                                                      \n",
       "8                Science Fiction;Speculative fiction   \n",
       "9                Science Fiction;Speculative fiction   \n",
       "\n",
       "                                        plot_summary  \n",
       "0  Old Major, the old boar on the Manor Farm, cal...  \n",
       "1  Alex, a teenager living in near-future England...  \n",
       "2  The text of The Plague is divided into five pa...  \n",
       "3  The argument of the Enquiry proceeds by a seri...  \n",
       "4  The novel posits that space around the Milky W...  \n",
       "5  The book tells the story of Paul Bäumer, a Ger...  \n",
       "6  Ged is a young boy on Gont, one of the larger ...  \n",
       "7  The story is set in an imaginary American town...  \n",
       "8  Living on Mars, Deckard is acting as a consult...  \n",
       "9  Beginning several months after the events in B...  "
      ]
     },
     "execution_count": 35,
     "metadata": {},
     "output_type": "execute_result"
    }
   ],
   "source": [
    "data_frame.head(10)"
   ]
  },
  {
   "cell_type": "code",
   "execution_count": 36,
   "id": "40efdbea-2566-4a7b-b184-749c7de732b3",
   "metadata": {
    "tags": []
   },
   "outputs": [
    {
     "name": "stdout",
     "output_type": "stream",
     "text": [
      "<class 'pandas.core.frame.DataFrame'>\n",
      "RangeIndex: 16559 entries, 0 to 16558\n",
      "Data columns (total 8 columns):\n",
      " #   Column                Non-Null Count  Dtype \n",
      "---  ------                --------------  ----- \n",
      " 0   wikipedia_article_id  16559 non-null  object\n",
      " 1   freebase_id           16559 non-null  object\n",
      " 2   book_title            16559 non-null  object\n",
      " 3   author                16559 non-null  object\n",
      " 4   publication_date      16559 non-null  object\n",
      " 5   publication_year      16559 non-null  int64 \n",
      " 6   book_genres           16559 non-null  object\n",
      " 7   plot_summary          16559 non-null  object\n",
      "dtypes: int64(1), object(7)\n",
      "memory usage: 1.0+ MB\n"
     ]
    }
   ],
   "source": [
    "data_frame.info()"
   ]
  },
  {
   "cell_type": "code",
   "execution_count": 32,
   "id": "8c749081-47f9-46e3-b113-0d42f90a5a35",
   "metadata": {
    "tags": []
   },
   "outputs": [
    {
     "name": "stdout",
     "output_type": "stream",
     "text": [
      "    publication_year  publications_count\n",
      "43              1950                  43\n",
      "25              1951                  45\n",
      "27              1952                  54\n",
      "8               1953                  56\n",
      "21              1954                  54\n",
      "..               ...                 ...\n",
      "58              2006                 455\n",
      "20              2007                 466\n",
      "57              2008                 387\n",
      "60              2009                 287\n",
      "59              2010                 200\n",
      "\n",
      "[61 rows x 2 columns]\n"
     ]
    }
   ],
   "source": [
    "file = open(\"booksummaries.txt\", \"r\")\n",
    "\n",
    "pub_year_mapping = {\n",
    "    \"publication_year\": [],\n",
    "    \"publications_count\": [],\n",
    "}\n",
    "\n",
    "for line in file:\n",
    "    line_parts = line.split(\"\\t\")\n",
    "    \n",
    "    year = line_parts[4].split(\"-\")[0]\n",
    "    if len(year) >= 1:\n",
    "        publication_year = int(year)\n",
    "    else:\n",
    "        publication_year = 0\n",
    "\n",
    "    # Populate pub_year_mapping\n",
    "    if publication_year == 0:\n",
    "        continue\n",
    "        \n",
    "    if publication_year < 1950 or publication_year >= 2011:\n",
    "        continue\n",
    "    \n",
    "    try:\n",
    "        index = pub_year_mapping[\"publication_year\"].index(publication_year)\n",
    "        pub_year_mapping[\"publications_count\"][index] += 1\n",
    "    except ValueError as ex:\n",
    "        pub_year_mapping[\"publication_year\"].append(publication_year)\n",
    "        pub_year_mapping[\"publications_count\"].append(1)\n",
    "    \n",
    "    \n",
    "file.close()\n",
    "\n",
    "year_mapping_data_frame = pd.DataFrame(data=pub_year_mapping)\n",
    "sorted_year_mapping_data_frame = year_mapping_data_frame.sort_values(by=['publication_year'])\n",
    "print(sorted_year_mapping_data_frame)"
   ]
  },
  {
   "cell_type": "code",
   "execution_count": 33,
   "id": "85aacf2a-7c0f-4056-94dd-152cf26c7fae",
   "metadata": {
    "tags": []
   },
   "outputs": [
    {
     "data": {
      "text/plain": [
       "<Axes: xlabel='Publication year', ylabel='Number of publications'>"
      ]
     },
     "execution_count": 33,
     "metadata": {},
     "output_type": "execute_result"
    },
    {
     "data": {
      "image/png": "[encoded data removed]",
      "text/plain": [
       "<Figure size 640x480 with 1 Axes>"
      ]
     },
     "metadata": {},
     "output_type": "display_data"
    }
   ],
   "source": [
    "sorted_year_mapping_data_frame.plot(x=\"publication_year\", y=\"publications_count\", grid=True, xlabel=\"Publication year\", ylabel=\"Number of publications\")"
   ]
  },
  {
   "cell_type": "code",
   "execution_count": 36,
   "id": "6776b1bb-96b8-49e8-9e09-5949f47ceae4",
   "metadata": {
    "tags": []
   },
   "outputs": [
    {
     "data": {
      "text/plain": [
       "<Axes: xlabel='Publication year', ylabel='Number of publications'>"
      ]
     },
     "execution_count": 36,
     "metadata": {},
     "output_type": "execute_result"
    },
    {
     "data": {
      "image/png": "[encoded data removed]",
      "text/plain": [
       "<Figure size 1500x700 with 1 Axes>"
      ]
     },
     "metadata": {},
     "output_type": "display_data"
    }
   ],
   "source": [
    "sorted_year_mapping_data_frame.plot(x=\"publication_year\", y=\"publications_count\", grid=True, xlabel=\"Publication year\", ylabel=\"Number of publications\", kind=\"bar\", figsize=(15,7))"
   ]
  },
  {
   "cell_type": "markdown",
   "id": "a6ea1ee6-e0d7-44b5-b6bd-43753da45f7f",
   "metadata": {},
   "source": [
    "Great, I visualized my data. My research question was, if there was a most productive decennial. It seems that the years between 2000 and 2010 were most productive. But I think that the reason for that is also that during these years people just wrote most plot summaries of recently published books for Wikipedia. One always needs to keep in mind how representative a dataset for a specific research question actually is."
   ]
  },
  {
   "cell_type": "markdown",
   "id": "66fe6d05-3a01-4efb-81da-ad8a213358dd",
   "metadata": {},
   "source": [
    "Now let's continue with my second research question:\n",
    "> 2. I want to discover the length of book titles, i.e. how many words they include. My hypothesis is, that book titles are getting increasingly longer the more recent they have been published. I want to check if this is just happening for book titles in German, or even for English book titles as well."
   ]
  },
  {
   "cell_type": "code",
   "execution_count": 45,
   "id": "979a0273-607f-4479-b846-a58f7ba7e486",
   "metadata": {
    "tags": []
   },
   "outputs": [
    {
     "data": {
      "text/html": [
       "<div>\n",
       "<style scoped>\n",
       "    .dataframe tbody tr th:only-of-type {\n",
       "        vertical-align: middle;\n",
       "    }\n",
       "\n",
       "    .dataframe tbody tr th {\n",
       "        vertical-align: top;\n",
       "    }\n",
       "\n",
       "    .dataframe thead th {\n",
       "        text-align: right;\n",
       "    }\n",
       "</style>\n",
       "<table border=\"1\" class=\"dataframe\">\n",
       "  <thead>\n",
       "    <tr style=\"text-align: right;\">\n",
       "      <th></th>\n",
       "      <th>publication_years</th>\n",
       "      <th>book_titles</th>\n",
       "      <th>word_count_book_titles</th>\n",
       "    </tr>\n",
       "  </thead>\n",
       "  <tbody>\n",
       "    <tr>\n",
       "      <th>0</th>\n",
       "      <td>1945</td>\n",
       "      <td>Animal Farm</td>\n",
       "      <td>2</td>\n",
       "    </tr>\n",
       "    <tr>\n",
       "      <th>1</th>\n",
       "      <td>1962</td>\n",
       "      <td>A Clockwork Orange</td>\n",
       "      <td>3</td>\n",
       "    </tr>\n",
       "    <tr>\n",
       "      <th>2</th>\n",
       "      <td>1947</td>\n",
       "      <td>The Plague</td>\n",
       "      <td>2</td>\n",
       "    </tr>\n",
       "    <tr>\n",
       "      <th>3</th>\n",
       "      <td>1929</td>\n",
       "      <td>All Quiet on the Western Front</td>\n",
       "      <td>6</td>\n",
       "    </tr>\n",
       "    <tr>\n",
       "      <th>4</th>\n",
       "      <td>1968</td>\n",
       "      <td>A Wizard of Earthsea</td>\n",
       "      <td>4</td>\n",
       "    </tr>\n",
       "    <tr>\n",
       "      <th>5</th>\n",
       "      <td>1996</td>\n",
       "      <td>Blade Runner 3: Replicant Night</td>\n",
       "      <td>5</td>\n",
       "    </tr>\n",
       "    <tr>\n",
       "      <th>6</th>\n",
       "      <td>1995</td>\n",
       "      <td>Blade Runner 2: The Edge of Human</td>\n",
       "      <td>7</td>\n",
       "    </tr>\n",
       "    <tr>\n",
       "      <th>7</th>\n",
       "      <td>1973</td>\n",
       "      <td>Crash</td>\n",
       "      <td>1</td>\n",
       "    </tr>\n",
       "    <tr>\n",
       "      <th>8</th>\n",
       "      <td>1976</td>\n",
       "      <td>Children of Dune</td>\n",
       "      <td>3</td>\n",
       "    </tr>\n",
       "    <tr>\n",
       "      <th>9</th>\n",
       "      <td>1985</td>\n",
       "      <td>Chapterhouse Dune</td>\n",
       "      <td>2</td>\n",
       "    </tr>\n",
       "  </tbody>\n",
       "</table>\n",
       "</div>"
      ],
      "text/plain": [
       "   publication_years                        book_titles  \\\n",
       "0               1945                        Animal Farm   \n",
       "1               1962                 A Clockwork Orange   \n",
       "2               1947                         The Plague   \n",
       "3               1929     All Quiet on the Western Front   \n",
       "4               1968               A Wizard of Earthsea   \n",
       "5               1996    Blade Runner 3: Replicant Night   \n",
       "6               1995  Blade Runner 2: The Edge of Human   \n",
       "7               1973                              Crash   \n",
       "8               1976                   Children of Dune   \n",
       "9               1985                  Chapterhouse Dune   \n",
       "\n",
       "   word_count_book_titles  \n",
       "0                       2  \n",
       "1                       3  \n",
       "2                       2  \n",
       "3                       6  \n",
       "4                       4  \n",
       "5                       5  \n",
       "6                       7  \n",
       "7                       1  \n",
       "8                       3  \n",
       "9                       2  "
      ]
     },
     "execution_count": 45,
     "metadata": {},
     "output_type": "execute_result"
    }
   ],
   "source": [
    "import pandas as pd\n",
    "\n",
    "file = open(\"booksummaries.txt\", \"r\")\n",
    "\n",
    "length_book_titles = {\n",
    "    \"publication_years\": [],\n",
    "    \"book_titles\": [],\n",
    "    \"word_count_book_titles\": [],\n",
    "}\n",
    "\n",
    "for line in file:\n",
    "    line_parts = line.split(\"\\t\")\n",
    "    \n",
    "    year = line_parts[4].split(\"-\")[0]\n",
    "    if len(year) >= 1:\n",
    "        publication_year = int(year)\n",
    "    else:\n",
    "        continue\n",
    "    \n",
    "    if publication_year < 1900 or publication_year >= 2010:\n",
    "        continue\n",
    "    \n",
    "    word_count_book_titles = line_parts[2].split(\" \")    \n",
    "    \n",
    "    length_book_titles[\"publication_years\"].append(publication_year)\n",
    "    length_book_titles[\"book_titles\"].append(line_parts[2])\n",
    "    length_book_titles[\"word_count_book_titles\"].append(len(word_count_book_titles))\n",
    "\n",
    "file.close()\n",
    "\n",
    "word_count_book_titles_data_frame = pd.DataFrame(data=length_book_titles)\n",
    "sorted_word_count_book_titles_data_frame = word_count_book_titles_data_frame.sort_values(by=[\"publication_years\"])\n",
    "word_count_book_titles_data_frame.head(10)"
   ]
  },
  {
   "cell_type": "code",
   "execution_count": 37,
   "id": "f36e560a-369e-4759-b31e-f172ac33cecf",
   "metadata": {
    "tags": []
   },
   "outputs": [
    {
     "data": {
      "text/plain": [
       "<Axes: xlabel='Publication year', ylabel='Number of words'>"
      ]
     },
     "execution_count": 37,
     "metadata": {},
     "output_type": "execute_result"
    },
    {
     "data": {
      "image/png": "[encoded data removed]",
      "text/plain": [
       "<Figure size 1500x700 with 1 Axes>"
      ]
     },
     "metadata": {},
     "output_type": "display_data"
    }
   ],
   "source": [
    "sorted_word_count_book_titles_data_frame.plot(x=\"publication_years\", y=\"word_count_book_titles\", grid=True, xlabel=\"Publication year\", ylabel=\"Number of words\", figsize=(15,7))"
   ]
  },
  {
   "cell_type": "code",
   "execution_count": 47,
   "id": "72eb7db6-286a-4286-b2ab-f578b003c523",
   "metadata": {
    "tags": []
   },
   "outputs": [
    {
     "data": {
      "text/plain": [
       "<Axes: xlabel='Publication year', ylabel='Number of words'>"
      ]
     },
     "execution_count": 47,
     "metadata": {},
     "output_type": "execute_result"
    },
    {
     "data": {
      "image/png": "[encoded data removed]",
      "text/plain": [
       "<Figure size 1500x700 with 1 Axes>"
      ]
     },
     "metadata": {},
     "output_type": "display_data"
    }
   ],
   "source": [
    "sorted_word_count_book_titles_data_frame.plot(x=\"publication_years\", y=\"word_count_book_titles\", grid=True, xlabel=\"Publication year\", ylabel=\"Number of words\", kind=\"scatter\", figsize=(15,7))"
   ]
  },
  {
   "cell_type": "markdown",
   "id": "a06acb2e-77b2-464e-89d4-cdcb01401f2f",
   "metadata": {},
   "source": [
    "I want to introduce my three remaining research questions:\n",
    "> 3. How are the genres distributed? My hypothesis is, that novels or fiction are most frequent.\n",
    "> 4. Search the plot summaries for most frequent topics. Example topics are \"murder\", \"love\", \"vampire\" (since there was a trend for vampire novels a few years ago), and \"travel\" (with the synonyms \"journey\" and \"voyage\").\n",
    "> 5. Create a list of 50 authors with the most publications."
   ]
  },
  {
   "cell_type": "markdown",
   "id": "f0e518a7-d7b9-4898-821c-e897aae5aa9f",
   "metadata": {},
   "source": [
    "Unfortunately, I can't explore and describe these three research questions, since I don't know how to handle text data yet. Maybe I will explore these remaining questions within the next assignment!"
   ]
  },
  {
   "cell_type": "code",
   "execution_count": null,
   "id": "f769de1c-bee6-449a-b5e1-86ce882f7631",
   "metadata": {},
   "outputs": [],
   "source": []
  }
 ],
 "metadata": {
  "kernelspec": {
   "display_name": "Python 3 (ipykernel)",
   "language": "python",
   "name": "python3"
  },
  "language_info": {
   "codemirror_mode": {
    "name": "ipython",
    "version": 3
   },
   "file_extension": ".py",
   "mimetype": "text/x-python",
   "name": "python",
   "nbconvert_exporter": "python",
   "pygments_lexer": "ipython3",
   "version": "3.11.5"
  }
 },
 "nbformat": 4,
 "nbformat_minor": 5
}
